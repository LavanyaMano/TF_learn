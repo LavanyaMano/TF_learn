{
  "nbformat": 4,
  "nbformat_minor": 0,
  "metadata": {
    "colab": {
      "name": "Learn.ipynb",
      "version": "0.3.2",
      "provenance": [],
      "include_colab_link": true
    },
    "kernelspec": {
      "name": "python3",
      "display_name": "Python 3"
    }
  },
  "cells": [
    {
      "cell_type": "markdown",
      "metadata": {
        "id": "view-in-github",
        "colab_type": "text"
      },
      "source": [
        "<a href=\"https://colab.research.google.com/github/LavanyaMano/TF_learn/blob/master/Learn.ipynb\" target=\"_parent\"><img src=\"https://colab.research.google.com/assets/colab-badge.svg\" alt=\"Open In Colab\"/></a>"
      ]
    },
    {
      "cell_type": "code",
      "metadata": {
        "id": "B7fQOiH-RUL8",
        "colab_type": "code",
        "colab": {}
      },
      "source": [
        "import tensorflow as tf\n"
      ],
      "execution_count": 0,
      "outputs": []
    },
    {
      "cell_type": "code",
      "metadata": {
        "id": "0uqTyS8uRvco",
        "colab_type": "code",
        "colab": {}
      },
      "source": [
        "#creating constant\n",
        "\n",
        "number = tf.constant(10)\n",
        "hello = tf.constant('hello ')"
      ],
      "execution_count": 0,
      "outputs": []
    },
    {
      "cell_type": "code",
      "metadata": {
        "id": "5FfAaj8oR56s",
        "colab_type": "code",
        "colab": {}
      },
      "source": [
        "#creating variable\n",
        "\n",
        "name = tf.Variable(5)\n",
        "world = tf.Variable('world')"
      ],
      "execution_count": 0,
      "outputs": []
    },
    {
      "cell_type": "code",
      "metadata": {
        "id": "brXf4IdHSGKA",
        "colab_type": "code",
        "colab": {
          "base_uri": "https://localhost:8080/",
          "height": 34
        },
        "outputId": "22ee71dc-fbb2-429c-d3d2-eff65f771c53"
      },
      "source": [
        "new_value = tf.add(name, number)\n",
        "\n",
        "\n",
        "print(new_value)"
      ],
      "execution_count": 60,
      "outputs": [
        {
          "output_type": "stream",
          "text": [
            "Tensor(\"Add_8:0\", shape=(), dtype=int32)\n"
          ],
          "name": "stdout"
        }
      ]
    },
    {
      "cell_type": "code",
      "metadata": {
        "id": "aow0WiEuSdxJ",
        "colab_type": "code",
        "colab": {
          "base_uri": "https://localhost:8080/",
          "height": 34
        },
        "outputId": "44205f28-cfef-4174-ed83-28c4dd9254bd"
      },
      "source": [
        "value_update = tf.assign(name, new_value)\n",
        "print(value_update)\n",
        "\n",
        "helloworld = tf.add(hello,world)\n"
      ],
      "execution_count": 88,
      "outputs": [
        {
          "output_type": "stream",
          "text": [
            "Tensor(\"Assign_5:0\", shape=(), dtype=int32_ref)\n"
          ],
          "name": "stdout"
        }
      ]
    },
    {
      "cell_type": "code",
      "metadata": {
        "id": "hLsXS0gDUJhF",
        "colab_type": "code",
        "colab": {}
      },
      "source": [
        "#initializing variable without this line variable cannot be printed\n",
        "init_variable = tf.global_variables_initializer()"
      ],
      "execution_count": 0,
      "outputs": []
    },
    {
      "cell_type": "code",
      "metadata": {
        "id": "bv1AGVodTiZ7",
        "colab_type": "code",
        "colab": {}
      },
      "source": [
        "sess = tf.Session()"
      ],
      "execution_count": 0,
      "outputs": []
    },
    {
      "cell_type": "code",
      "metadata": {
        "id": "D9dby4fRToB8",
        "colab_type": "code",
        "colab": {
          "base_uri": "https://localhost:8080/",
          "height": 85
        },
        "outputId": "927f3515-89d7-41b3-a8a9-77755182574b"
      },
      "source": [
        "sess.run(init_variable)\n",
        "print(sess.run(name))\n",
        "\n",
        "print(sess.run(new_value))\n",
        "\n",
        "print(sess.run(value_update))\n",
        "\n",
        "helloworld = tf.add(hello,world)\n",
        "\n",
        "print(sess.run(helloworld))"
      ],
      "execution_count": 86,
      "outputs": [
        {
          "output_type": "stream",
          "text": [
            "5\n",
            "15\n",
            "15\n",
            "b'hello world'\n"
          ],
          "name": "stdout"
        }
      ]
    },
    {
      "cell_type": "code",
      "metadata": {
        "id": "eCRQLp5HYDNC",
        "colab_type": "code",
        "colab": {}
      },
      "source": [
        "#creating placeholder\n",
        "\n",
        "something = tf.placeholder(tf.float32)\n",
        "\n",
        "op = 2 * something"
      ],
      "execution_count": 0,
      "outputs": []
    },
    {
      "cell_type": "code",
      "metadata": {
        "id": "Kl3EqavjYc8y",
        "colab_type": "code",
        "colab": {
          "base_uri": "https://localhost:8080/",
          "height": 119
        },
        "outputId": "177ed6bd-e025-40ea-fc34-e277294f2714"
      },
      "source": [
        "# feeding value to the placeholder\n",
        "\n",
        "result = sess.run(op, feed_dict={something:3})\n",
        "\n",
        "print(result)\n",
        "\n",
        "#another way\n",
        "\n",
        "result_next = sess.run(op, {something:5})\n",
        "print(result_next)\n",
        "\n",
        "#feeding vector value\n",
        "\n",
        "result_vector = sess.run(op, feed_dict={something:[2,4,6]})\n",
        "print(result_vector)\n",
        "\n",
        "#feed tensor/matrix\n",
        "\n",
        "result_matrix = sess.run(op,feed_dict= {something:[[1,2,3],[3,4,5],[7,5,6]]})\n",
        "print (result_matrix)\n",
        "\n"
      ],
      "execution_count": 42,
      "outputs": [
        {
          "output_type": "stream",
          "text": [
            "6.0\n",
            "10.0\n",
            "[ 4.  8. 12.]\n",
            "[[ 2.  4.  6.]\n",
            " [ 6.  8. 10.]\n",
            " [14. 10. 12.]]\n"
          ],
          "name": "stdout"
        }
      ]
    },
    {
      "cell_type": "code",
      "metadata": {
        "id": "p9RvVYoIaDvb",
        "colab_type": "code",
        "colab": {}
      },
      "source": [
        "#closing session\n",
        "sess.close()"
      ],
      "execution_count": 0,
      "outputs": []
    },
    {
      "cell_type": "code",
      "metadata": {
        "id": "CEnrMna7aNZL",
        "colab_type": "code",
        "colab": {
          "base_uri": "https://localhost:8080/",
          "height": 34
        },
        "outputId": "d316a17f-88f7-4df9-995f-9ec6fa241ea1"
      },
      "source": [
        "#another way of running session.\n",
        "# in this session will get executed within this block.\n",
        "\n",
        "with tf.Session() as sess:\n",
        "  \n",
        "  result = sess.run(hello)\n",
        "  print(result)"
      ],
      "execution_count": 93,
      "outputs": [
        {
          "output_type": "stream",
          "text": [
            "b'hello '\n"
          ],
          "name": "stdout"
        }
      ]
    }
  ]
}